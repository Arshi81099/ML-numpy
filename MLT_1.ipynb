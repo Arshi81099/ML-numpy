{
  "nbformat": 4,
  "nbformat_minor": 0,
  "metadata": {
    "colab": {
      "provenance": []
    },
    "kernelspec": {
      "name": "python3",
      "display_name": "Python 3"
    },
    "language_info": {
      "name": "python"
    }
  },
  "cells": [
    {
      "cell_type": "code",
      "source": [
        "https://karthik-iitm.github.io/mlt-workshop/Day-1/nb-1.html"
      ],
      "metadata": {
        "id": "07XL7T5nzyS1"
      },
      "execution_count": null,
      "outputs": []
    },
    {
      "cell_type": "code",
      "execution_count": 2,
      "metadata": {
        "id": "VGgCOyhDo0NQ"
      },
      "outputs": [],
      "source": [
        "import numpy as np\n",
        "import matplotlib.pyplot as plt\n"
      ]
    },
    {
      "cell_type": "code",
      "source": [
        "x = [2, 4, 6, 8]\n",
        "y = [3, 5, 7, 9]\n",
        "\n",
        "z = []\n",
        "\n",
        "for x_i, y_i in zip(x, y):\n",
        "  z.append(x_i + y_i)\n",
        "\n",
        "z"
      ],
      "metadata": {
        "colab": {
          "base_uri": "https://localhost:8080/"
        },
        "id": "v8xB42C6wrf6",
        "outputId": "eabe3937-4078-4c82-c17e-b769749c2228"
      },
      "execution_count": null,
      "outputs": [
        {
          "output_type": "execute_result",
          "data": {
            "text/plain": [
              "[5, 9, 13, 17]"
            ]
          },
          "metadata": {},
          "execution_count": 3
        }
      ]
    },
    {
      "cell_type": "code",
      "source": [
        "arr = np.array(z)\n",
        "\n",
        "arr"
      ],
      "metadata": {
        "colab": {
          "base_uri": "https://localhost:8080/"
        },
        "id": "9OSXS16lxOl0",
        "outputId": "6d99764a-bb45-46b1-d0ea-8aef3358e972"
      },
      "execution_count": null,
      "outputs": [
        {
          "output_type": "execute_result",
          "data": {
            "text/plain": [
              "array([ 5,  9, 13, 17])"
            ]
          },
          "metadata": {},
          "execution_count": 10
        }
      ]
    },
    {
      "cell_type": "code",
      "source": [
        "type(arr)"
      ],
      "metadata": {
        "colab": {
          "base_uri": "https://localhost:8080/"
        },
        "id": "p-IinbCtxc9A",
        "outputId": "0c7dcf82-113d-488f-d239-4d3ff857bac2"
      },
      "execution_count": null,
      "outputs": [
        {
          "output_type": "execute_result",
          "data": {
            "text/plain": [
              "numpy.ndarray"
            ]
          },
          "metadata": {},
          "execution_count": 12
        }
      ]
    },
    {
      "cell_type": "code",
      "source": [
        "# Addition\n",
        "\n",
        "x = np.array([1, 2, 3])\n",
        "y = np.array([4, 5, 6])\n",
        "z = x + y\n",
        "z\n"
      ],
      "metadata": {
        "colab": {
          "base_uri": "https://localhost:8080/"
        },
        "id": "7jBZx-2Jxw-K",
        "outputId": "c4dd8eb2-2086-4147-afb8-41823a637850"
      },
      "execution_count": null,
      "outputs": [
        {
          "output_type": "execute_result",
          "data": {
            "text/plain": [
              "array([5, 7, 9])"
            ]
          },
          "metadata": {},
          "execution_count": 16
        }
      ]
    },
    {
      "cell_type": "code",
      "source": [
        "# Multiplication\n",
        "\n",
        "x = np.array([1, 2, 3])\n",
        "y = np.array([4, 5, 6])\n",
        "z = x * y\n",
        "z"
      ],
      "metadata": {
        "colab": {
          "base_uri": "https://localhost:8080/"
        },
        "id": "_AhlAqJIyYKn",
        "outputId": "81d7d7e3-69dc-4155-9908-e17346fcf07a"
      },
      "execution_count": null,
      "outputs": [
        {
          "output_type": "execute_result",
          "data": {
            "text/plain": [
              "array([ 4, 10, 18])"
            ]
          },
          "metadata": {},
          "execution_count": 17
        }
      ]
    },
    {
      "cell_type": "code",
      "source": [
        "# Scaling vector\n",
        "\n",
        "x = np.array([1, 2, 3])\n",
        "y = 3 * x\n",
        "y"
      ],
      "metadata": {
        "colab": {
          "base_uri": "https://localhost:8080/"
        },
        "id": "xU6UW5Azyo1a",
        "outputId": "be076dbe-8601-4118-dcc5-3c7053dbb803"
      },
      "execution_count": null,
      "outputs": [
        {
          "output_type": "execute_result",
          "data": {
            "text/plain": [
              "array([3, 6, 9])"
            ]
          },
          "metadata": {},
          "execution_count": 18
        }
      ]
    },
    {
      "cell_type": "code",
      "source": [
        "# square\n",
        "\n",
        "x = np.array([1, 2, 3, 4])\n",
        "x ** 2"
      ],
      "metadata": {
        "colab": {
          "base_uri": "https://localhost:8080/"
        },
        "id": "krLMBjamywbG",
        "outputId": "85364512-230c-4692-b2df-f5eaae4197ad"
      },
      "execution_count": null,
      "outputs": [
        {
          "output_type": "execute_result",
          "data": {
            "text/plain": [
              "array([ 1,  4,  9, 16])"
            ]
          },
          "metadata": {},
          "execution_count": 19
        }
      ]
    },
    {
      "cell_type": "code",
      "source": [
        "# log10\n",
        "\n",
        "x = np.array([1, 10, 100, 1000, 10_000, 100_000])\n",
        "np.log10(x)"
      ],
      "metadata": {
        "colab": {
          "base_uri": "https://localhost:8080/"
        },
        "id": "FHL55yOAy0ta",
        "outputId": "859f3ddd-c417-4a3a-8c9e-75fc6627c733"
      },
      "execution_count": null,
      "outputs": [
        {
          "output_type": "execute_result",
          "data": {
            "text/plain": [
              "array([0., 1., 2., 3., 4., 5.])"
            ]
          },
          "metadata": {},
          "execution_count": 22
        }
      ]
    },
    {
      "cell_type": "code",
      "source": [
        "# log or ln\n",
        "\n",
        "np.log(x)"
      ],
      "metadata": {
        "colab": {
          "base_uri": "https://localhost:8080/"
        },
        "id": "tm3rPYOQzCjY",
        "outputId": "71f5ee48-be40-4b70-bdad-38004cbc723b"
      },
      "execution_count": null,
      "outputs": [
        {
          "output_type": "execute_result",
          "data": {
            "text/plain": [
              "array([ 0.        ,  2.30258509,  4.60517019,  6.90775528,  9.21034037,\n",
              "       11.51292546])"
            ]
          },
          "metadata": {},
          "execution_count": 23
        }
      ]
    },
    {
      "cell_type": "code",
      "source": [
        "x = np.array([1, np.e, np.e ** 2, np.e ** 3])\n",
        "np.log(x)"
      ],
      "metadata": {
        "colab": {
          "base_uri": "https://localhost:8080/"
        },
        "id": "Urkegbb_zNPO",
        "outputId": "1323618d-b8d9-455d-c12b-526179bb2483"
      },
      "execution_count": null,
      "outputs": [
        {
          "output_type": "execute_result",
          "data": {
            "text/plain": [
              "array([0., 1., 2., 3.])"
            ]
          },
          "metadata": {},
          "execution_count": 24
        }
      ]
    },
    {
      "cell_type": "code",
      "source": [
        "x = np.array([1, 2, 3])\n",
        "c = 5\n",
        "x + c"
      ],
      "metadata": {
        "colab": {
          "base_uri": "https://localhost:8080/"
        },
        "id": "fagH0Bwjzbl4",
        "outputId": "00963887-2f05-4d02-f1b1-113f41eb2926"
      },
      "execution_count": null,
      "outputs": [
        {
          "output_type": "execute_result",
          "data": {
            "text/plain": [
              "array([6, 7, 8])"
            ]
          },
          "metadata": {},
          "execution_count": 25
        }
      ]
    },
    {
      "cell_type": "code",
      "source": [
        "x = np.array([1, 2, 3])\n",
        "c = 5\n",
        "5*x + c"
      ],
      "metadata": {
        "colab": {
          "base_uri": "https://localhost:8080/"
        },
        "id": "50rvl9w-zjJl",
        "outputId": "f512f8cb-e734-4585-9329-13d028106d08"
      },
      "execution_count": null,
      "outputs": [
        {
          "output_type": "execute_result",
          "data": {
            "text/plain": [
              "array([10, 15, 20])"
            ]
          },
          "metadata": {},
          "execution_count": 26
        }
      ]
    },
    {
      "cell_type": "code",
      "source": [
        "# Dot product\n",
        "\n",
        "x = np.array([1, 2, 3])\n",
        "y = np.array([4, 5, 6])\n",
        "np.dot(x, y)"
      ],
      "metadata": {
        "colab": {
          "base_uri": "https://localhost:8080/"
        },
        "id": "trV9sGHCzsmu",
        "outputId": "29bf1107-687d-4e96-f244-397f78a0b471"
      },
      "execution_count": null,
      "outputs": [
        {
          "output_type": "execute_result",
          "data": {
            "text/plain": [
              "32"
            ]
          },
          "metadata": {},
          "execution_count": 27
        }
      ]
    },
    {
      "cell_type": "code",
      "source": [
        "# Vector of zeroes and ones\n",
        "\n",
        "np.zeros(5)"
      ],
      "metadata": {
        "colab": {
          "base_uri": "https://localhost:8080/"
        },
        "id": "cCsxWLB1z63B",
        "outputId": "b73acdbd-cef7-434a-c99c-c359c7def146"
      },
      "execution_count": null,
      "outputs": [
        {
          "output_type": "execute_result",
          "data": {
            "text/plain": [
              "array([0., 0., 0., 0., 0.])"
            ]
          },
          "metadata": {},
          "execution_count": 28
        }
      ]
    },
    {
      "cell_type": "code",
      "source": [
        "np.ones(2)"
      ],
      "metadata": {
        "colab": {
          "base_uri": "https://localhost:8080/"
        },
        "id": "4npHF3ZQ0AdC",
        "outputId": "cff4ed3f-b9ce-41f2-c873-e8574538832d"
      },
      "execution_count": null,
      "outputs": [
        {
          "output_type": "execute_result",
          "data": {
            "text/plain": [
              "array([1., 1.])"
            ]
          },
          "metadata": {},
          "execution_count": 29
        }
      ]
    },
    {
      "cell_type": "code",
      "source": [
        "# Range\n",
        "\n",
        "np.arange(1, 10)"
      ],
      "metadata": {
        "colab": {
          "base_uri": "https://localhost:8080/"
        },
        "id": "rQuLe8yv0Cn3",
        "outputId": "37534439-6247-4e48-9663-cda5650f87bd"
      },
      "execution_count": null,
      "outputs": [
        {
          "output_type": "execute_result",
          "data": {
            "text/plain": [
              "array([1, 2, 3, 4, 5, 6, 7, 8, 9])"
            ]
          },
          "metadata": {},
          "execution_count": 30
        }
      ]
    },
    {
      "cell_type": "code",
      "source": [
        "# L1-norm : ∥x∥ =∣x1∣+∣x2∣ +⋯+∣xn∣\n",
        "x = np.array([1, 2, 3])\n",
        "norm = np.linalg.norm(x, ord = 1)\n",
        "norm"
      ],
      "metadata": {
        "colab": {
          "base_uri": "https://localhost:8080/"
        },
        "id": "_bfGJ2Cx0ucz",
        "outputId": "c31c2646-a6e1-41b5-e878-d676b118aa2a"
      },
      "execution_count": null,
      "outputs": [
        {
          "output_type": "execute_result",
          "data": {
            "text/plain": [
              "6.0"
            ]
          },
          "metadata": {},
          "execution_count": 31
        }
      ]
    },
    {
      "cell_type": "code",
      "source": [
        "# L2-norm :\n",
        "x = np.array([1, 2, 3])\n",
        "norm = np.linalg.norm(x)\n",
        "norm"
      ],
      "metadata": {
        "colab": {
          "base_uri": "https://localhost:8080/"
        },
        "id": "TEDp0C-q08Zo",
        "outputId": "6ff447e5-169e-4996-8ed5-4099ea54cd2d"
      },
      "execution_count": null,
      "outputs": [
        {
          "output_type": "execute_result",
          "data": {
            "text/plain": [
              "3.7416573867739413"
            ]
          },
          "metadata": {},
          "execution_count": 32
        }
      ]
    },
    {
      "cell_type": "code",
      "source": [
        "# Shape\n",
        "x = np.array([1, 2, 3, 4])\n",
        "x.shape"
      ],
      "metadata": {
        "colab": {
          "base_uri": "https://localhost:8080/"
        },
        "id": "EXxK8ahX0819",
        "outputId": "b33102c0-4c20-4c61-a728-ab05aa4c5d69"
      },
      "execution_count": null,
      "outputs": [
        {
          "output_type": "execute_result",
          "data": {
            "text/plain": [
              "(4,)"
            ]
          },
          "metadata": {},
          "execution_count": 33
        }
      ]
    },
    {
      "cell_type": "code",
      "source": [
        "# N-dim\n",
        "x = np.array([1, 2, 3, 4])\n",
        "x.ndim"
      ],
      "metadata": {
        "colab": {
          "base_uri": "https://localhost:8080/"
        },
        "id": "1VIo337J2fAX",
        "outputId": "63ee6bcc-70b2-4e25-a630-b4964de4893a"
      },
      "execution_count": null,
      "outputs": [
        {
          "output_type": "execute_result",
          "data": {
            "text/plain": [
              "1"
            ]
          },
          "metadata": {},
          "execution_count": 34
        }
      ]
    },
    {
      "cell_type": "code",
      "source": [
        "# Plotting Simple Curves\n",
        "x = np.linspace(0, 1, 11)\n",
        "x"
      ],
      "metadata": {
        "colab": {
          "base_uri": "https://localhost:8080/"
        },
        "id": "HFyKaZSY2hjx",
        "outputId": "8668bd39-971b-4439-9f91-12ecca0c769f"
      },
      "execution_count": null,
      "outputs": [
        {
          "output_type": "execute_result",
          "data": {
            "text/plain": [
              "array([0. , 0.1, 0.2, 0.3, 0.4, 0.5, 0.6, 0.7, 0.8, 0.9, 1. ])"
            ]
          },
          "metadata": {},
          "execution_count": 38
        }
      ]
    },
    {
      "cell_type": "code",
      "source": [
        "x = np.linspace(0, 1, 10)\n",
        "y = x\n",
        "plt.plot(x, y)"
      ],
      "metadata": {
        "colab": {
          "base_uri": "https://localhost:8080/",
          "height": 448
        },
        "id": "NLmhL4qO21dI",
        "outputId": "547027bc-27f9-45bb-bd6d-39554afcd062"
      },
      "execution_count": null,
      "outputs": [
        {
          "output_type": "execute_result",
          "data": {
            "text/plain": [
              "[<matplotlib.lines.Line2D at 0x78812ff11930>]"
            ]
          },
          "metadata": {},
          "execution_count": 39
        },
        {
          "output_type": "display_data",
          "data": {
            "text/plain": [
              "<Figure size 640x480 with 1 Axes>"
            ],
            "image/png": "[encoded data removed]"
          },
          "metadata": {}
        }
      ]
    },
    {
      "cell_type": "code",
      "source": [
        "x = np.linspace(-5, 5, 20)\n",
        "y = 5 - 3 * x\n",
        "plt.plot(x, y)\n",
        "plt.title('y = 5 - 3 x');"
      ],
      "metadata": {
        "colab": {
          "base_uri": "https://localhost:8080/",
          "height": 452
        },
        "id": "15YMEv_m6Uig",
        "outputId": "f39b6dbb-8e90-4d26-ca6b-1cfa8f37cda0"
      },
      "execution_count": null,
      "outputs": [
        {
          "output_type": "display_data",
          "data": {
            "text/plain": [
              "<Figure size 640x480 with 1 Axes>"
            ],
            "image/png": "[encoded data removed]"
          },
          "metadata": {}
        }
      ]
    },
    {
      "cell_type": "code",
      "source": [
        "x = np.linspace(-1, 1)\n",
        "y = x ** 2\n",
        "plt.plot(x, y)\n",
        "plt.axhline(color = 'black', linestyle = '--', linewidth = 0.8)\n",
        "plt.axvline(color = 'black', linestyle = '--', linewidth = 0.8);"
      ],
      "metadata": {
        "colab": {
          "base_uri": "https://localhost:8080/",
          "height": 430
        },
        "id": "WNF2ts-P6kyY",
        "outputId": "4b8d75d4-1440-4d0b-a5dc-dafc46615a44"
      },
      "execution_count": null,
      "outputs": [
        {
          "output_type": "display_data",
          "data": {
            "text/plain": [
              "<Figure size 640x480 with 1 Axes>"
            ],
            "image/png": "[encoded data removed]"
          },
          "metadata": {}
        }
      ]
    },
    {
      "cell_type": "code",
      "source": [
        "# y = 3\n",
        "x = np.linspace(0, 6, 2)\n",
        "y = np.ones(2) * 3\n",
        "plt.plot(x, y, color = 'blue', label = 'y = 3')\n",
        "\n",
        "# x = 5\n",
        "x = np.ones(2) * 5\n",
        "y = np.linspace(0, 6, 2)\n",
        "plt.plot(x, y, color = 'red', label = 'x = 5')\n",
        "\n",
        "plt.legend()\n",
        "plt.title('x = 5 and y = 3')\n",
        "plt.axhline(color = 'black')\n",
        "plt.axvline(color = 'black');"
      ],
      "metadata": {
        "colab": {
          "base_uri": "https://localhost:8080/",
          "height": 452
        },
        "id": "ZswlHpoL6uk-",
        "outputId": "14497bb8-a9d5-4ceb-c780-51785c7162c5"
      },
      "execution_count": null,
      "outputs": [
        {
          "output_type": "display_data",
          "data": {
            "text/plain": [
              "<Figure size 640x480 with 1 Axes>"
            ],
            "image/png": "[encoded data removed]"
          },
          "metadata": {}
        }
      ]
    },
    {
      "cell_type": "code",
      "source": [
        "# rcParams is like a dict\n",
        "# controls various configurations\n",
        "plt.rcParams['figure.figsize'] = [8, 8]\n",
        "plt.rcParams['font.size'] = 10\n",
        "\n",
        "# Plot-1\n",
        "plt.subplot(2, 2, 1)\n",
        "x = np.linspace(1 / np.e ** 2, np.e ** 3)\n",
        "y = np.log(x)\n",
        "plt.plot(x, y)\n",
        "plt.title('y = ln x')\n",
        "\n",
        "# Plot-2\n",
        "plt.subplot(2, 2, 2)\n",
        "x = np.linspace(0, 3)\n",
        "y = np.exp(x)\n",
        "plt.plot(x, y)\n",
        "plt.title('$y = e^x$')\n",
        "\n",
        "# Plot-3\n",
        "plt.subplot(2, 2, 3)\n",
        "x = np.linspace(0, 2 * np.pi)\n",
        "y = np.sin(x)\n",
        "plt.plot(x, y)\n",
        "plt.title('y = sin x')\n",
        "\n",
        "# Plot-4\n",
        "plt.subplot(2, 2, 4)\n",
        "x = np.linspace(0.1, 5)\n",
        "y = 1 / x\n",
        "plt.plot(x, y)\n",
        "plt.title('y = 1 / x')"
      ],
      "metadata": {
        "colab": {
          "base_uri": "https://localhost:8080/",
          "height": 719
        },
        "id": "spP_iNS67LpV",
        "outputId": "df3d919d-d872-4fda-e254-b26b395fc567"
      },
      "execution_count": null,
      "outputs": [
        {
          "output_type": "execute_result",
          "data": {
            "text/plain": [
              "Text(0.5, 1.0, 'y = 1 / x')"
            ]
          },
          "metadata": {},
          "execution_count": 58
        },
        {
          "output_type": "display_data",
          "data": {
            "text/plain": [
              "<Figure size 800x800 with 4 Axes>"
            ],
            "image/png": "[encoded data removed]"
          },
          "metadata": {}
        }
      ]
    },
    {
      "cell_type": "code",
      "source": [
        "# Matrices\n",
        "\n",
        "M = np.array([\n",
        "    [1, 2, 3],\n",
        "    [4, 5, 6],\n",
        "    [7, 8, 9]\n",
        "])\n",
        "M"
      ],
      "metadata": {
        "colab": {
          "base_uri": "https://localhost:8080/"
        },
        "id": "BMRWWdwR7t3W",
        "outputId": "77222562-00b1-4f50-9839-875ebc549e82"
      },
      "execution_count": null,
      "outputs": [
        {
          "output_type": "execute_result",
          "data": {
            "text/plain": [
              "array([[1, 2, 3],\n",
              "       [4, 5, 6],\n",
              "       [7, 8, 9]])"
            ]
          },
          "metadata": {},
          "execution_count": 60
        }
      ]
    },
    {
      "cell_type": "code",
      "source": [
        "A = np.array([\n",
        "    [1, 2],\n",
        "    [3, 4]])\n",
        "B = np.array([\n",
        "    [5, 6],\n",
        "    [7, 8]\n",
        "])\n",
        "C = A + B\n",
        "C"
      ],
      "metadata": {
        "colab": {
          "base_uri": "https://localhost:8080/"
        },
        "id": "iCBW1QDs9BwB",
        "outputId": "26a07fd1-9943-4ae0-d70e-a62d7d2486af"
      },
      "execution_count": null,
      "outputs": [
        {
          "output_type": "execute_result",
          "data": {
            "text/plain": [
              "array([[ 6,  8],\n",
              "       [10, 12]])"
            ]
          },
          "metadata": {},
          "execution_count": 61
        }
      ]
    },
    {
      "cell_type": "code",
      "source": [
        "M = np.array([\n",
        "    [1, 2, 3],\n",
        "    [4, 5, 6],\n",
        "    [7, 8, 9]\n",
        "])\n",
        "3 * M"
      ],
      "metadata": {
        "colab": {
          "base_uri": "https://localhost:8080/"
        },
        "id": "XSoUTB379HjG",
        "outputId": "f2249038-39be-41da-df4b-04b070c9a71c"
      },
      "execution_count": null,
      "outputs": [
        {
          "output_type": "execute_result",
          "data": {
            "text/plain": [
              "array([[ 3,  6,  9],\n",
              "       [12, 15, 18],\n",
              "       [21, 24, 27]])"
            ]
          },
          "metadata": {},
          "execution_count": 62
        }
      ]
    },
    {
      "cell_type": "code",
      "source": [
        "A = np.array([\n",
        "    [1, 2],\n",
        "    [3, 4]\n",
        "])\n",
        "B = np.array([\n",
        "    [5, 6],\n",
        "    [7, 8]\n",
        "])\n",
        "C = A * B\n",
        "C"
      ],
      "metadata": {
        "colab": {
          "base_uri": "https://localhost:8080/"
        },
        "id": "7ySlRKQd9K0n",
        "outputId": "869dae27-8a9f-44bc-87fa-5e0dea7d4604"
      },
      "execution_count": null,
      "outputs": [
        {
          "output_type": "execute_result",
          "data": {
            "text/plain": [
              "array([[ 5, 12],\n",
              "       [21, 32]])"
            ]
          },
          "metadata": {},
          "execution_count": 63
        }
      ]
    },
    {
      "cell_type": "code",
      "source": [
        "A = np.array([\n",
        "    [-1, 2],\n",
        "    [-3, -4]\n",
        "])\n",
        "np.abs(A)"
      ],
      "metadata": {
        "colab": {
          "base_uri": "https://localhost:8080/"
        },
        "id": "Ozp7CksL9PFP",
        "outputId": "44be44a8-14f8-4d85-9c75-58a5cdcbb480"
      },
      "execution_count": null,
      "outputs": [
        {
          "output_type": "execute_result",
          "data": {
            "text/plain": [
              "array([[1, 2],\n",
              "       [3, 4]])"
            ]
          },
          "metadata": {},
          "execution_count": 64
        }
      ]
    },
    {
      "cell_type": "code",
      "source": [
        "A = np.array([\n",
        "    [1, np.sqrt(2)],\n",
        "    [np.sqrt(3), 2]\n",
        "])\n",
        "A ** 2"
      ],
      "metadata": {
        "colab": {
          "base_uri": "https://localhost:8080/"
        },
        "id": "ZXLA3gJX9dYu",
        "outputId": "e51ccef9-bbe0-4472-824a-7ff4ee478c81"
      },
      "execution_count": null,
      "outputs": [
        {
          "output_type": "execute_result",
          "data": {
            "text/plain": [
              "array([[1., 2.],\n",
              "       [3., 4.]])"
            ]
          },
          "metadata": {},
          "execution_count": 65
        }
      ]
    },
    {
      "cell_type": "code",
      "source": [
        "M = np.array([\n",
        "    [1, 2, 3],\n",
        "    [4, 5, 6]\n",
        "])\n",
        "np.transpose(M)"
      ],
      "metadata": {
        "colab": {
          "base_uri": "https://localhost:8080/"
        },
        "id": "9b04zQ2l9hGc",
        "outputId": "44d1a425-af92-48c5-e5d6-fa4df9cb78eb"
      },
      "execution_count": null,
      "outputs": [
        {
          "output_type": "execute_result",
          "data": {
            "text/plain": [
              "array([[1, 4],\n",
              "       [2, 5],\n",
              "       [3, 6]])"
            ]
          },
          "metadata": {},
          "execution_count": 66
        }
      ]
    },
    {
      "cell_type": "code",
      "source": [
        "x = np.array([\n",
        "    [1],\n",
        "    [2],\n",
        "     [3]\n",
        "])\n",
        "print(x.shape)\n",
        "print(x.ndim)\n",
        "x"
      ],
      "metadata": {
        "colab": {
          "base_uri": "https://localhost:8080/"
        },
        "id": "wMOJbtuA9kdx",
        "outputId": "22950a6c-bc93-4d30-b2c0-774c2c9c02d5"
      },
      "execution_count": null,
      "outputs": [
        {
          "output_type": "stream",
          "name": "stdout",
          "text": [
            "(3, 1)\n",
            "2\n"
          ]
        },
        {
          "output_type": "execute_result",
          "data": {
            "text/plain": [
              "array([[1],\n",
              "       [2],\n",
              "       [3]])"
            ]
          },
          "metadata": {},
          "execution_count": 67
        }
      ]
    },
    {
      "cell_type": "code",
      "source": [
        "# Column vector\n",
        "x = np.array([1, 2, 3])\n",
        "x = x[:, np.newaxis]\n",
        "x.shape"
      ],
      "metadata": {
        "colab": {
          "base_uri": "https://localhost:8080/"
        },
        "id": "HJy94bW99rnY",
        "outputId": "0834a303-6c52-4c8f-e8bf-27e3d3e4fccf"
      },
      "execution_count": null,
      "outputs": [
        {
          "output_type": "execute_result",
          "data": {
            "text/plain": [
              "(3, 1)"
            ]
          },
          "metadata": {},
          "execution_count": 68
        }
      ]
    },
    {
      "cell_type": "code",
      "source": [
        "# Row vector\n",
        "x = np.array([1, 2, 3])\n",
        "x = x[np.newaxis, :]\n",
        "x.shape"
      ],
      "metadata": {
        "colab": {
          "base_uri": "https://localhost:8080/"
        },
        "id": "E17S1wUP-SPG",
        "outputId": "7f9daa49-986f-4b2c-86a6-a8ece065abdd"
      },
      "execution_count": null,
      "outputs": [
        {
          "output_type": "execute_result",
          "data": {
            "text/plain": [
              "(1, 3)"
            ]
          },
          "metadata": {},
          "execution_count": 69
        }
      ]
    },
    {
      "cell_type": "code",
      "source": [
        "# Column vector - reshape\n",
        "x = np.array([1, 2, 3])\n",
        "x = x.reshape(3, 1)\n",
        "x.shape"
      ],
      "metadata": {
        "colab": {
          "base_uri": "https://localhost:8080/"
        },
        "id": "lUn5omY_-3EK",
        "outputId": "98e5a0c0-8142-47ac-c33c-3f51630e4cfc"
      },
      "execution_count": null,
      "outputs": [
        {
          "output_type": "execute_result",
          "data": {
            "text/plain": [
              "(3, 1)"
            ]
          },
          "metadata": {},
          "execution_count": 70
        }
      ]
    },
    {
      "cell_type": "code",
      "source": [
        "# Row vector - reshape\n",
        "x = np.array([1, 2, 3])\n",
        "x = x.reshape(1, 3)\n",
        "x.shape"
      ],
      "metadata": {
        "colab": {
          "base_uri": "https://localhost:8080/"
        },
        "id": "Aj-S7CRC-8HV",
        "outputId": "29233e6d-0223-41f6-edce-aa0a6aedf854"
      },
      "execution_count": null,
      "outputs": [
        {
          "output_type": "execute_result",
          "data": {
            "text/plain": [
              "(1, 3)"
            ]
          },
          "metadata": {},
          "execution_count": 71
        }
      ]
    },
    {
      "cell_type": "code",
      "source": [
        "# Matrix Multiplication\n",
        "\n",
        "A = np.array([\n",
        "    [1, 2, 3],\n",
        "    [4, 5, 6]\n",
        "])\n",
        "B = np.array([\n",
        "    [6, 7],\n",
        "    [8, 9],\n",
        "    [10, 11]\n",
        "])\n",
        "C = A @ B\n",
        "C"
      ],
      "metadata": {
        "colab": {
          "base_uri": "https://localhost:8080/"
        },
        "id": "vo4CGcG2-_fS",
        "outputId": "6b1f32d9-2c3f-43a1-b792-904c88826b77"
      },
      "execution_count": null,
      "outputs": [
        {
          "output_type": "execute_result",
          "data": {
            "text/plain": [
              "array([[ 52,  58],\n",
              "       [124, 139]])"
            ]
          },
          "metadata": {},
          "execution_count": 72
        }
      ]
    },
    {
      "cell_type": "code",
      "source": [
        "A = np.array([\n",
        "    [1, 2, 3],\n",
        "    [4, 5, 6],\n",
        "    [7, 8, 9]\n",
        "])\n",
        "x = np.array([6, 7, 8])\n",
        "C = A @ x\n",
        "C"
      ],
      "metadata": {
        "colab": {
          "base_uri": "https://localhost:8080/"
        },
        "id": "NwZKWXkD_KoF",
        "outputId": "f1cbd9dc-f675-4a32-8ffc-19e0de585d22"
      },
      "execution_count": null,
      "outputs": [
        {
          "output_type": "execute_result",
          "data": {
            "text/plain": [
              "array([ 44, 107, 170])"
            ]
          },
          "metadata": {},
          "execution_count": 73
        }
      ]
    },
    {
      "cell_type": "code",
      "source": [
        "#Identity matrix\n",
        "\n",
        "np.eye(3)"
      ],
      "metadata": {
        "colab": {
          "base_uri": "https://localhost:8080/"
        },
        "id": "8uuiyCU2_UmF",
        "outputId": "763bc520-aee9-4842-d7b2-c979e984dd0a"
      },
      "execution_count": null,
      "outputs": [
        {
          "output_type": "execute_result",
          "data": {
            "text/plain": [
              "array([[1., 0., 0.],\n",
              "       [0., 1., 0.],\n",
              "       [0., 0., 1.]])"
            ]
          },
          "metadata": {},
          "execution_count": 3
        }
      ]
    },
    {
      "cell_type": "code",
      "source": [
        "# Diagonal matrices\n",
        "\n",
        "np.diag([1, 2, 3])"
      ],
      "metadata": {
        "colab": {
          "base_uri": "https://localhost:8080/"
        },
        "id": "-RfzbbJRSmqO",
        "outputId": "b45509b3-7b67-430f-b621-2e664c73ebdc"
      },
      "execution_count": null,
      "outputs": [
        {
          "output_type": "execute_result",
          "data": {
            "text/plain": [
              "array([[1, 0, 0],\n",
              "       [0, 2, 0],\n",
              "       [0, 0, 3]])"
            ]
          },
          "metadata": {},
          "execution_count": 4
        }
      ]
    },
    {
      "cell_type": "code",
      "source": [
        "M = np.arange(1, 11).reshape(5, 2)\n",
        "M"
      ],
      "metadata": {
        "colab": {
          "base_uri": "https://localhost:8080/"
        },
        "id": "EVLAi1IT8OGB",
        "outputId": "93b62a1d-8a49-4c77-839a-5e1ddf74dbcb"
      },
      "execution_count": null,
      "outputs": [
        {
          "output_type": "execute_result",
          "data": {
            "text/plain": [
              "array([[ 1,  2],\n",
              "       [ 3,  4],\n",
              "       [ 5,  6],\n",
              "       [ 7,  8],\n",
              "       [ 9, 10]])"
            ]
          },
          "metadata": {},
          "execution_count": 3
        }
      ]
    },
    {
      "cell_type": "code",
      "source": [
        "M[2, :]"
      ],
      "metadata": {
        "colab": {
          "base_uri": "https://localhost:8080/"
        },
        "id": "8sURaCRE2Ay6",
        "outputId": "2f19b3ef-31ce-4bf7-d3c9-359cc48c97cc"
      },
      "execution_count": null,
      "outputs": [
        {
          "output_type": "execute_result",
          "data": {
            "text/plain": [
              "array([5, 6])"
            ]
          },
          "metadata": {},
          "execution_count": 4
        }
      ]
    },
    {
      "cell_type": "code",
      "source": [
        "# Rank\n",
        "\n",
        "M = np.array([\n",
        "    [1, 2, 3, 4],\n",
        "    [5, 6, 7, 8],\n",
        "    [9, 10, 11, 12],\n",
        "    [13, 14, 15, 16]\n",
        "])\n",
        "np.linalg.matrix_rank(M)"
      ],
      "metadata": {
        "colab": {
          "base_uri": "https://localhost:8080/"
        },
        "id": "sFwWibKW2LW3",
        "outputId": "8c9db2a4-e5e1-4163-a51c-48b7f7dab909"
      },
      "execution_count": null,
      "outputs": [
        {
          "output_type": "execute_result",
          "data": {
            "text/plain": [
              "2"
            ]
          },
          "metadata": {},
          "execution_count": 5
        }
      ]
    },
    {
      "cell_type": "code",
      "source": [
        "M = np.array([[3, -4], [4, 3]])\n",
        "np.linalg.inv(M)"
      ],
      "metadata": {
        "colab": {
          "base_uri": "https://localhost:8080/"
        },
        "id": "c2lRY3re2VnB",
        "outputId": "02844f83-1b26-45bf-d70c-29c78fa712ed"
      },
      "execution_count": null,
      "outputs": [
        {
          "output_type": "execute_result",
          "data": {
            "text/plain": [
              "array([[ 0.12,  0.16],\n",
              "       [-0.16,  0.12]])"
            ]
          },
          "metadata": {},
          "execution_count": 6
        }
      ]
    },
    {
      "cell_type": "code",
      "source": [
        "M = np.array([[3, -4], [4, 3]])\n",
        "np.linalg.pinv(M)"
      ],
      "metadata": {
        "colab": {
          "base_uri": "https://localhost:8080/"
        },
        "id": "VehZDaOh2day",
        "outputId": "c15178d0-4d8d-4cc1-dedd-246d48ea5b82"
      },
      "execution_count": null,
      "outputs": [
        {
          "output_type": "execute_result",
          "data": {
            "text/plain": [
              "array([[ 0.12,  0.16],\n",
              "       [-0.16,  0.12]])"
            ]
          },
          "metadata": {},
          "execution_count": 7
        }
      ]
    },
    {
      "cell_type": "code",
      "source": [
        "# Eigenvalues and Eigenvectors\n",
        "\n",
        "M = np.array([[1, 0, -3], [0, 5, 2], [-3, 2, 8]])\n",
        "eigval, eigvec = np.linalg.eigh(M)\n",
        "eigval"
      ],
      "metadata": {
        "colab": {
          "base_uri": "https://localhost:8080/"
        },
        "id": "E1GUomdd2j5v",
        "outputId": "5f487169-ab54-4be7-aa45-c6d719925b41"
      },
      "execution_count": null,
      "outputs": [
        {
          "output_type": "execute_result",
          "data": {
            "text/plain": [
              "array([-0.20942046,  4.36588492,  9.84353554])"
            ]
          },
          "metadata": {},
          "execution_count": 8
        }
      ]
    },
    {
      "cell_type": "code",
      "source": [
        "rng = np.random.default_rng(seed = 42)"
      ],
      "metadata": {
        "id": "wBQDBHG92rxx"
      },
      "execution_count": 6,
      "outputs": []
    },
    {
      "cell_type": "code",
      "source": [
        "# Bernoulli\n",
        "\n",
        "X = rng.choice([0, 1], p = [0.3, 0.7], size = 1000)\n",
        "X.shape"
      ],
      "metadata": {
        "colab": {
          "base_uri": "https://localhost:8080/"
        },
        "id": "GNoGiAjUAAME",
        "outputId": "6470d30e-ec19-4d35-91d6-90a540de7e0d"
      },
      "execution_count": null,
      "outputs": [
        {
          "output_type": "execute_result",
          "data": {
            "text/plain": [
              "(1000,)"
            ]
          },
          "metadata": {},
          "execution_count": 10
        }
      ]
    },
    {
      "cell_type": "code",
      "source": [
        "zero, one = 0, 0\n",
        "for i in range(X.shape[0]):\n",
        "    if X[i] == 0:\n",
        "        zero += 1\n",
        "    else:\n",
        "        one += 1\n",
        "\n",
        "\n",
        "plt.bar([0, 1], [zero, one])\n",
        "plt.xticks([0, 1]);\n",
        "\n"
      ],
      "metadata": {
        "colab": {
          "base_uri": "https://localhost:8080/",
          "height": 430
        },
        "id": "dmcCfonGUSp6",
        "outputId": "2047a6e9-a284-4d38-e686-7c73d888369b"
      },
      "execution_count": null,
      "outputs": [
        {
          "output_type": "display_data",
          "data": {
            "text/plain": [
              "<Figure size 640x480 with 1 Axes>"
            ],
            "image/png": "[encoded data removed]"
          },
          "metadata": {}
        }
      ]
    },
    {
      "cell_type": "code",
      "source": [
        "# Gaussian\n",
        "\n",
        "X = rng.normal(1, 2, size = 10_000)\n",
        "X.shape"
      ],
      "metadata": {
        "colab": {
          "base_uri": "https://localhost:8080/"
        },
        "id": "ghFAfktKUZ1m",
        "outputId": "6d5b707c-51df-4346-88d6-b22f409ff1b0"
      },
      "execution_count": 7,
      "outputs": [
        {
          "output_type": "execute_result",
          "data": {
            "text/plain": [
              "(10000,)"
            ]
          },
          "metadata": {},
          "execution_count": 7
        }
      ]
    },
    {
      "cell_type": "code",
      "source": [
        "plt.hist(X, bins = 10, edgecolor = 'black');"
      ],
      "metadata": {
        "colab": {
          "base_uri": "https://localhost:8080/",
          "height": 430
        },
        "id": "OjQMHsOqUjSJ",
        "outputId": "233b98d5-2466-4095-abd8-263d6058bc35"
      },
      "execution_count": null,
      "outputs": [
        {
          "output_type": "display_data",
          "data": {
            "text/plain": [
              "<Figure size 640x480 with 1 Axes>"
            ],
            "image/png": "[encoded data removed]"
          },
          "metadata": {}
        }
      ]
    },
    {
      "cell_type": "code",
      "source": [
        "# Bivariate Gaussian\n",
        "\n",
        "mu = np.array([1, 2])\n",
        "cov = np.array([\n",
        "    [1, 0],\n",
        "    [0, 5]\n",
        "])\n",
        "X = rng.multivariate_normal(mu, cov, size = 1000).T\n",
        "# we transpose so that the data-matrix is (d, n) and not (n, d)\n",
        "d, n = X.shape"
      ],
      "metadata": {
        "id": "UOWho-CkUpeL"
      },
      "execution_count": 8,
      "outputs": []
    },
    {
      "cell_type": "code",
      "source": [
        "plt.scatter(X[0], X[1])\n",
        "plt.axis('equal')\n",
        "plt.axhline(color = 'black', linestyle = '--', linewidth = '0.8')\n",
        "plt.axvline(color = 'black', linestyle = '--', linewidth = '0.8')"
      ],
      "metadata": {
        "colab": {
          "base_uri": "https://localhost:8080/",
          "height": 448
        },
        "id": "5CYsG04JUvIP",
        "outputId": "d0587946-6f72-4dae-cae3-823c3b02f909"
      },
      "execution_count": 9,
      "outputs": [
        {
          "output_type": "execute_result",
          "data": {
            "text/plain": [
              "<matplotlib.lines.Line2D at 0x7963f8b37010>"
            ]
          },
          "metadata": {},
          "execution_count": 9
        },
        {
          "output_type": "display_data",
          "data": {
            "text/plain": [
              "<Figure size 640x480 with 1 Axes>"
            ],
            "image/png": "[encoded data removed]"
          },
          "metadata": {}
        }
      ]
    },
    {
      "cell_type": "code",
      "source": [
        "# Estimating the sample covariance matrix\n",
        "\n",
        "d, n = X.shape\n",
        "mu = X.mean(axis = 1).reshape(d, 1)\n",
        "C = (X - mu) @ (X - mu).T / n\n",
        "C"
      ],
      "metadata": {
        "colab": {
          "base_uri": "https://localhost:8080/"
        },
        "id": "TyAYmrJXUxyS",
        "outputId": "6138101b-2d9a-4e41-dc97-44253095dac7"
      },
      "execution_count": 10,
      "outputs": [
        {
          "output_type": "execute_result",
          "data": {
            "text/plain": [
              "array([[1.04464247, 0.13039786],\n",
              "       [0.13039786, 4.75050253]])"
            ]
          },
          "metadata": {},
          "execution_count": 10
        }
      ]
    },
    {
      "cell_type": "code",
      "source": [
        "# Check how close C and cov are\n",
        "np.linalg.norm(C - cov)"
      ],
      "metadata": {
        "id": "KtVZDN0UW9iv",
        "outputId": "053193ff-3239-46e6-fc8d-11c798b3d872",
        "colab": {
          "base_uri": "https://localhost:8080/"
        }
      },
      "execution_count": 11,
      "outputs": [
        {
          "output_type": "execute_result",
          "data": {
            "text/plain": [
              "0.31344718797246307"
            ]
          },
          "metadata": {},
          "execution_count": 11
        }
      ]
    },
    {
      "cell_type": "code",
      "source": [
        "#  Sample covariance vs Population covariance\n",
        "\n",
        "\n",
        "def generate(mu, cov, n):\n",
        "    X = rng.multivariate_normal(mu, cov, size = n).T\n",
        "    return X\n",
        "\n",
        "def sample_covariance(X):\n",
        "    d, n = X.shape\n",
        "    mu = X.mean(axis = 1).reshape(d, 1)\n",
        "    X -= mu\n",
        "    return X @ X.T / n\n",
        "\n",
        "\n",
        "mu = np.array([1, 2])\n",
        "# population covariance matrix\n",
        "cov = np.array([\n",
        "    [1, 0],\n",
        "    [0, 5]\n",
        "])\n",
        "\n",
        "# Run experiment\n",
        "T = 10 # number of runs for each n\n",
        "norms = [ ]\n",
        "n_vals = np.arange(1000, 100_000, 1000)\n",
        "for n in n_vals:\n",
        "    norm = 0\n",
        "    for t in range(T):\n",
        "        X = generate(mu, cov, n)\n",
        "        C = sample_covariance(X)\n",
        "        norm += np.linalg.norm(C - cov)\n",
        "    norms.append(norm / T)\n",
        "\n",
        "# Plot\n",
        "plt.plot(n_vals, norms)\n",
        "plt.title('Norm vs Dataset size')\n",
        "plt.xlabel('Dataset size')\n",
        "plt.ylabel('Norm');"
      ],
      "metadata": {
        "id": "TcfO-8VSW_5-",
        "colab": {
          "base_uri": "https://localhost:8080/",
          "height": 472
        },
        "outputId": "42a04c80-2d5c-4f3d-81f6-42b09ecb550d"
      },
      "execution_count": 13,
      "outputs": [
        {
          "output_type": "display_data",
          "data": {
            "text/plain": [
              "<Figure size 640x480 with 1 Axes>"
            ],
            "image/png": "[encoded data removed]"
          },
          "metadata": {}
        }
      ]
    },
    {
      "cell_type": "code",
      "source": [
        "# GMM\n",
        "\n",
        "n = 1_000_000\n",
        "comp = rng.choice([0, 1, 2], p = [0.2, 0.3, 0.5], size = n)\n",
        "mu = np.array([-10, 0, 10])\n",
        "X = np.zeros(n)\n",
        "for i in range(n):\n",
        "    X[i] = rng.normal(mu[comp[i]], 1)\n",
        "plt.hist(X, bins = 1000, edgecolor = 'black');"
      ],
      "metadata": {
        "colab": {
          "base_uri": "https://localhost:8080/",
          "height": 430
        },
        "id": "XU_VMNGugUpY",
        "outputId": "1f3a909e-50b8-4e24-fa5b-5b2edb3be1b6"
      },
      "execution_count": 14,
      "outputs": [
        {
          "output_type": "display_data",
          "data": {
            "text/plain": [
              "<Figure size 640x480 with 1 Axes>"
            ],
            "image/png": "[encoded data removed]"
          },
          "metadata": {}
        }
      ]
    }
  ]
}