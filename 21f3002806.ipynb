{
  "nbformat": 4,
  "nbformat_minor": 0,
  "metadata": {
    "colab": {
      "provenance": []
    },
    "kernelspec": {
      "name": "python3",
      "display_name": "Python 3"
    },
    "language_info": {
      "name": "python"
    }
  },
  "cells": [
    {
      "cell_type": "markdown",
      "source": [
        "## Instructions\n",
        "\n",
        "- There are $17$ NAT questions with marks distributed as $1 \\times 2 + 16 \\times 3 = 50$.\n",
        "- Answers to all questions are going to be integers.\n",
        "- Solve the problem in the colab and enter the answer in the portal.\n",
        "- Always run the data-cell before running the solution cell.\n",
        "- In questions where a data-matrix $\\mathbf{X}$ and label-vector $\\mathbf{y}$ are mentioned, the data-cell will have the corresponding entries as `X` and `y`.\n",
        "- All other vectors, matrices and scalars necessary for solving the problem will be given in the data-cell. They will have the same name as the ones mentioned in the problem statement."
      ],
      "metadata": {
        "id": "t3Nnu-W2QRde"
      }
    },
    {
      "cell_type": "markdown",
      "source": [
        "## Notation\n",
        "\n",
        "- The data-matrix in all problems will be of shape $d \\times n$, where $d$ is the number of features and $n$ is the number of data-points.\n",
        "- If $\\mathbf{x} = (1, 2, 3)$ is a vector, $1, 2$ and $3$ are termed the components of $\\mathbf{x}$. The sum of the components of $\\mathbf{x}$ is $6$.\n",
        "- The norm of a vector $\\mathbf{x}$ is the Euclidean norm ($L_2$) by default. This is the only norm used in this exam.\n",
        "- All vectors will be represented as one-dimensional NumPy arrays. All matrices will be represented as two-dimensional NumPy arrays."
      ],
      "metadata": {
        "id": "OlT8_lBECghZ"
      }
    },
    {
      "cell_type": "markdown",
      "source": [
        "## Useful functions\n",
        "\n",
        "- `np.linalg.norm` can be used to compute the norm of a vector.\n",
        "- Use the question mark to get more info about a function. For example, `np.linalg.norm?` will give you more details about this method.\n",
        "- `round` is a function that can be used to find the nearest integer. For example, `round(1.2) == 1` and `round(1.9) == 2`."
      ],
      "metadata": {
        "id": "XR6-XL-Pcz-E"
      }
    },
    {
      "cell_type": "code",
      "source": [
        "import numpy as np\n",
        "import matplotlib.pyplot as plt"
      ],
      "metadata": {
        "id": "G9xfb6EDlxIy"
      },
      "execution_count": 117,
      "outputs": []
    },
    {
      "cell_type": "markdown",
      "source": [
        "## Question-1 [2 marks]\n",
        "\n",
        "$\\mathbf{X}$ is a data-matrix. If $\\boldsymbol{\\mu}$ is the mean of the data-points, find the norm of $\\boldsymbol{\\mu}$ and enter the nearest integer as your answer."
      ],
      "metadata": {
        "id": "tZ1jfgAunSbW"
      }
    },
    {
      "cell_type": "code",
      "source": [
        "# DATA CELL\n",
        "# DO NOT EDIT THIS\n",
        "rng = np.random.default_rng(seed = 1001)\n",
        "d = rng.integers(2, 10)\n",
        "n = rng.integers(40, 50)\n",
        "X = rng.integers(-5, 10, (d, n))"
      ],
      "metadata": {
        "id": "VZlO9j6Jnyww"
      },
      "execution_count": 118,
      "outputs": []
    },
    {
      "cell_type": "code",
      "source": [
        "# Solution\n",
        "# Run the data cell before running this\n",
        "mu = np.mean(X, axis=1)\n",
        "norm_mu = np.linalg.norm(mu)\n",
        "print(round(norm_mu))"
      ],
      "metadata": {
        "id": "v2MDy_FHoLx-",
        "colab": {
          "base_uri": "https://localhost:8080/"
        },
        "outputId": "e936eb8d-9452-405c-af3f-28903bbdc27a"
      },
      "execution_count": 119,
      "outputs": [
        {
          "output_type": "stream",
          "name": "stdout",
          "text": [
            "5\n"
          ]
        }
      ]
    },
    {
      "cell_type": "markdown",
      "source": [
        "## Question-2 [3 marks]\n",
        "\n",
        "$\\mathbf{X}$ is a data-matrix. Find the number of data-points whose norm is at least $k$."
      ],
      "metadata": {
        "id": "hlD-5BqllMj7"
      }
    },
    {
      "cell_type": "code",
      "execution_count": 120,
      "metadata": {
        "id": "cHRVHV1xlCme"
      },
      "outputs": [],
      "source": [
        "# DATA CELL\n",
        "# DO NOT EDIT THIS\n",
        "rng = np.random.default_rng(seed = 1002)\n",
        "k = rng.integers(10, 20)\n",
        "d = rng.integers(5, 10)\n",
        "n = rng.integers(50, 100)\n",
        "X = rng.integers(-10, 10, (d, n))"
      ]
    },
    {
      "cell_type": "code",
      "source": [
        "# Solution\n",
        "# Run the data cell before running this\n",
        "count = 0\n",
        "for i in range(X.shape[1]):\n",
        "  norm_x = np.linalg.norm(X[:, i])\n",
        "  if norm_x >= k:\n",
        "    count += 1\n",
        "print(count)"
      ],
      "metadata": {
        "id": "-N-NZ085mA-1",
        "colab": {
          "base_uri": "https://localhost:8080/"
        },
        "outputId": "dc7cf94f-6fdc-4ec2-f55c-256c7142bb27"
      },
      "execution_count": 121,
      "outputs": [
        {
          "output_type": "stream",
          "name": "stdout",
          "text": [
            "17\n"
          ]
        }
      ]
    },
    {
      "cell_type": "markdown",
      "source": [
        "## Question-3 [3 marks]\n",
        "\n",
        "Consider a matrix $\\mathbf{A}$ of shape $m \\times n$. Find the trace of the matrix $\\mathbf{A}^T \\mathbf{A}$, where the trace is the sum of the diagonal elements. The diagonal here is the main diagonal (top-left to bottom-right)."
      ],
      "metadata": {
        "id": "RXl92AUGocO_"
      }
    },
    {
      "cell_type": "code",
      "source": [
        "# DATA CELL\n",
        "# DO NOT EDIT THIS\n",
        "rng = np.random.default_rng(seed = 1003)\n",
        "m, n = rng.integers(50, 100, 2)\n",
        "A = rng.integers(-1, 2, (m, n))"
      ],
      "metadata": {
        "id": "Jeit_vadozZx"
      },
      "execution_count": 122,
      "outputs": []
    },
    {
      "cell_type": "code",
      "source": [
        "# Solution\n",
        "# Run the data cell before running this\n",
        "ATA = np.matmul(A.T, A)\n",
        "trace_ATA = np.trace(ATA)\n",
        "print(trace_ATA)"
      ],
      "metadata": {
        "id": "cwIolxUOpPy2",
        "colab": {
          "base_uri": "https://localhost:8080/"
        },
        "outputId": "acb00b34-c6ee-452a-d22d-99d5bc346f23"
      },
      "execution_count": 123,
      "outputs": [
        {
          "output_type": "stream",
          "name": "stdout",
          "text": [
            "2517\n"
          ]
        }
      ]
    },
    {
      "cell_type": "markdown",
      "source": [
        "## Question-4 [3 marks]\n",
        "\n",
        "Consider the curves:\n",
        "\n",
        "$$\n",
        "\\begin{aligned}\n",
        "y &= xe^{x}\\\\\\\\\n",
        "y &= \\sin(10 \\pi x)\n",
        "\\end{aligned}\n",
        "$$\n",
        "\n",
        "Find the number of points at which these two curves intersect in the interval $0.15 \\leqslant x \\leqslant 0.5$."
      ],
      "metadata": {
        "id": "WVaAy1i8piTh"
      }
    },
    {
      "cell_type": "code",
      "source": [
        "# Solution\n",
        "def f(x):\n",
        "  return x * np.exp(x)\n",
        "\n",
        "def g(x):\n",
        "  return np.sin(10 * np.pi * x)\n",
        "\n",
        "x_values = np.linspace(0.15, 0.5, 1000)\n",
        "count = 0\n",
        "for x in x_values:\n",
        "  if abs(f(x) - g(x)) < 1e-6:\n",
        "    count += 1\n",
        "\n",
        "print(count)\n"
      ],
      "metadata": {
        "id": "L2SZuyuuptkx",
        "colab": {
          "base_uri": "https://localhost:8080/"
        },
        "outputId": "9008f085-ec92-4070-fc73-eb76f8e2645b"
      },
      "execution_count": 124,
      "outputs": [
        {
          "output_type": "stream",
          "name": "stdout",
          "text": [
            "0\n"
          ]
        }
      ]
    },
    {
      "cell_type": "markdown",
      "source": [
        "## Question-5 [3 marks]\n",
        "\n",
        "Consider the system of equations $\\mathbf{Ax} = \\mathbf{b}$, where:\n",
        "\n",
        "$$\n",
        "\\mathbf{A} = \\begin{bmatrix}\n",
        "1 & 2 & -1 & 3\\\\\n",
        "0 & 1 & 2 & -1\\\\\n",
        "1 & -2 & 3 & 1\\\\\n",
        "0 & -1 & -1 & 2\n",
        "\\end{bmatrix}, \\quad \\mathbf{b} = \\begin{bmatrix}\n",
        "1\\\\\n",
        "2\\\\\n",
        "-1\\\\\n",
        "0\n",
        "\\end{bmatrix}\n",
        "$$\n",
        "\n",
        "If $A$ is invertible, find the solution to this system, and enter the sum of the components of the solution as the answer. Your answer should be an integer."
      ],
      "metadata": {
        "id": "ZdSKq7Koq2hk"
      }
    },
    {
      "cell_type": "code",
      "source": [
        "# Solution\n",
        "\n",
        "A = np.array([[1, 2, -1, 3],\n",
        "              [0, 1, 2, -1],\n",
        "              [1, -2, 3, 1],\n",
        "              [0, -1, -1, 2]])\n",
        "\n",
        "b = np.array([1, 2, -1, 0])\n",
        "\n",
        "x = np.linalg.solve(A, b)\n",
        "print(int(np.sum(x)))"
      ],
      "metadata": {
        "id": "8nPU1UrxrQK-",
        "colab": {
          "base_uri": "https://localhost:8080/"
        },
        "outputId": "7ac3d1c2-ce7f-4a8c-e5c7-374d3f2ffcdc"
      },
      "execution_count": 125,
      "outputs": [
        {
          "output_type": "stream",
          "name": "stdout",
          "text": [
            "0\n"
          ]
        }
      ]
    },
    {
      "cell_type": "markdown",
      "source": [
        "## Question-6 [3 marks]\n",
        "\n",
        "Let $\\mathbf{w}$ be the weight vector of a linear classifier trained on a dataset for a binary classification problem with data-matrix $\\mathbf{X}$ and true label vector $\\mathbf{y}$. The predicted label for a data-point $\\mathbf{x}$ defined as:\n",
        "\n",
        "$$\n",
        "\\widehat{y} = \\begin{cases}\n",
        "1,& \\mathbf{w}^{T} \\mathbf{x} \\geqslant 0,\\\\\n",
        "0,& \\text{otherwise}\n",
        "\\end{cases}\n",
        "$$\n",
        "\n",
        "Find the predicted label vector for the given dataset and enter the sum of the components of the predicted label vector as the answer.\n",
        "\n"
      ],
      "metadata": {
        "id": "tPLSPiXEsEVn"
      }
    },
    {
      "cell_type": "code",
      "source": [
        "# DATA CELL\n",
        "# DO NOT EDIT THIS\n",
        "rng = np.random.default_rng(seed = 1006)\n",
        "d = rng.integers(3, 6)\n",
        "n = rng.integers(40, 60)\n",
        "if n % 2 != 0: n += 1\n",
        "X = rng.uniform(-2, 2, (d, n))\n",
        "y = np.concatenate(\n",
        "    (np.ones(n // 2),\n",
        "    np.zeros(n // 2))\n",
        ")\n",
        "w = rng.uniform(-5, 5, d)"
      ],
      "metadata": {
        "id": "4X-n4sXnDdeD"
      },
      "execution_count": 126,
      "outputs": []
    },
    {
      "cell_type": "code",
      "source": [
        "# Solution\n",
        "# Run the data cell before running this\n",
        "\n",
        "y_pred = []\n",
        "for i in range(X.shape[1]):\n",
        "  if np.dot(w, X[:, i]) >= 0:\n",
        "    y_pred.append(1)\n",
        "  else:\n",
        "    y_pred.append(0)\n",
        "\n",
        "print(sum(y_pred))\n"
      ],
      "metadata": {
        "id": "EzRf97SlEdc2",
        "colab": {
          "base_uri": "https://localhost:8080/"
        },
        "outputId": "46dd6dd6-b758-496b-d258-b403afb707f3"
      },
      "execution_count": 127,
      "outputs": [
        {
          "output_type": "stream",
          "name": "stdout",
          "text": [
            "19\n"
          ]
        }
      ]
    },
    {
      "cell_type": "markdown",
      "source": [
        "## Common data for questions (7) to (10)\n",
        "\n",
        "Consider the following dataset for a binary classification problem. The data-matrix $\\mathbf{X}$ and the label vector $\\mathbf{y}$ are given below."
      ],
      "metadata": {
        "id": "7s-1nc3YFQq4"
      }
    },
    {
      "cell_type": "code",
      "source": [
        "# DATA CELL\n",
        "# DO NOT EDIT THIS\n",
        "X = np.array([\n",
        "    [2, 2, 2, 3, -2, -2, -5, -3],\n",
        "    [0, 1, -1, 0, 0, -3, 3, -1]\n",
        "])\n",
        "y = np.array(\n",
        "    [-1, -1, -1, -1, 1, 1, 1, 1]\n",
        ")"
      ],
      "metadata": {
        "id": "8WSXne4hFtNU"
      },
      "execution_count": 128,
      "outputs": []
    },
    {
      "cell_type": "markdown",
      "source": [
        "## Question-7 [3 marks]\n",
        "\n",
        "Train a perceptron algorithm on this dataset. Cycle through the data-points from left to right, that is, $i = 0$ to $i = n - 1$. Make sure to strictly follow this cycle. If you make an update at data-point $i$, proceed to data-point $i + 1$ in the next iteration. Once you reach $n - 1$, cycle back to $0$.\n",
        "\n",
        "\n",
        "Find the sum of the components of the weight vector and enter the nearest integer as your answer."
      ],
      "metadata": {
        "id": "YzVNgtqKJsE_"
      }
    },
    {
      "cell_type": "code",
      "source": [
        "# Solution\n",
        "# Run the data cell before running this\n",
        "\n",
        "w = np.zeros(X.shape[0])\n",
        "b = 0\n",
        "epochs = 10\n",
        "\n",
        "for _ in range(epochs):\n",
        "  for i in range(X.shape[1]):\n",
        "    x_i = X[:, i]\n",
        "    y_i = y[i]\n",
        "\n",
        "    if y_i * (np.dot(w, x_i) + b) <= 0:\n",
        "      w = w + y_i * x_i\n",
        "      b = b + y_i\n",
        "\n",
        "print(round(np.sum(w)))"
      ],
      "metadata": {
        "id": "sxoAcslRJ-Iv",
        "colab": {
          "base_uri": "https://localhost:8080/"
        },
        "outputId": "0e0af93c-b396-4708-c127-9a2f91f34e23"
      },
      "execution_count": 129,
      "outputs": [
        {
          "output_type": "stream",
          "name": "stdout",
          "text": [
            "-2\n"
          ]
        }
      ]
    },
    {
      "cell_type": "markdown",
      "source": [
        "## Question-8 [3 marks]\n",
        "\n",
        "In the context of hard-margin SVM, find the optimal $\\boldsymbol{\\alpha}^{*}$ by solving the following dual optimization problem.\n",
        "\n",
        "$$\n",
        "\\begin{equation*}\n",
        "\\underset{\\boldsymbol{\\alpha} \\geqslant \\mathbf{0}}{\\max}\\ \\ \\  \\  \\boldsymbol{\\alpha}^{T}\\mathbf{1} -\\frac{1}{2}\\boldsymbol{\\alpha}^{T}\\mathbf{Y}^{T}\\mathbf{X}^{T}\\mathbf{XY} \\boldsymbol{\\alpha}\n",
        "\\end{equation*}\n",
        "$$\n",
        "\n",
        "If the sum of the components of $\\boldsymbol{\\alpha}^{*}$ is $s$, find $\\cfrac{1}{s}$ and enter the nearest integer to $\\cfrac{1}{s}$ as the answer."
      ],
      "metadata": {
        "id": "1GBq4yDPLLt-"
      }
    },
    {
      "cell_type": "code",
      "source": [
        "# Solution\n",
        "# Run the data cell before running this\n",
        "\n",
        "Y = np.diag(y)\n",
        "gram_matrix = np.dot(np.dot(Y, X.T), np.dot(X, Y))\n",
        "\n",
        "alpha = np.zeros(X.shape[1])\n",
        "\n",
        "for _ in range(100):\n",
        "  gradient = np.ones(X.shape[1]) - np.dot(gram_matrix, alpha)\n",
        "  alpha += 0.01 * gradient\n",
        "  alpha = np.maximum(0, alpha)\n",
        "\n",
        "s = np.sum(alpha)\n",
        "\n",
        "if s != 0:\n",
        "  print(round(1 / s))\n",
        "else:\n",
        "  print(0)"
      ],
      "metadata": {
        "id": "akscrU-gNktD",
        "colab": {
          "base_uri": "https://localhost:8080/"
        },
        "outputId": "db0b58a9-78e2-40d6-dd9b-69a83dd62bd3"
      },
      "execution_count": 130,
      "outputs": [
        {
          "output_type": "stream",
          "name": "stdout",
          "text": [
            "4\n"
          ]
        }
      ]
    },
    {
      "cell_type": "markdown",
      "source": [
        "## Question-9 [3 marks]\n",
        "\n",
        "Find the optimal weight vector $\\mathbf{w}^{*}$. If the sum of the components of $\\mathbf{w}^{*}$ is $s$, find $\\cfrac{1}{s}$ and enter the nearest integer to $\\cfrac{1}{s}$ as the answer."
      ],
      "metadata": {
        "id": "BwXCnOmfPGJO"
      }
    },
    {
      "cell_type": "code",
      "source": [
        "# Solution\n",
        "\n",
        "Y = np.diag(y)\n",
        "gram_matrix = np.dot(np.dot(Y, X.T), np.dot(X, Y))\n",
        "\n",
        "alpha = np.zeros(X.shape[1])\n",
        "\n",
        "for _ in range(100):\n",
        "  gradient = np.ones(X.shape[1]) - np.dot(gram_matrix, alpha)\n",
        "  alpha += 0.01 * gradient\n",
        "  alpha = np.maximum(0, alpha)\n",
        "\n",
        "w_star = np.dot(X, np.dot(Y, alpha))\n",
        "\n",
        "s = np.sum(w_star)\n",
        "\n",
        "if s != 0:\n",
        "  print(round(1 / s))\n",
        "else:\n",
        "  print(0)\n"
      ],
      "metadata": {
        "id": "6rIsgdJHO7-f",
        "colab": {
          "base_uri": "https://localhost:8080/"
        },
        "outputId": "e66d7502-151d-4469-9ed9-ea70e8f56452"
      },
      "execution_count": 131,
      "outputs": [
        {
          "output_type": "stream",
          "name": "stdout",
          "text": [
            "-2\n"
          ]
        }
      ]
    },
    {
      "cell_type": "markdown",
      "source": [
        "## Question-10 [3 marks]\n",
        "\n",
        "Find the number of support vectors."
      ],
      "metadata": {
        "id": "KuQwLBPtPnsq"
      }
    },
    {
      "cell_type": "code",
      "source": [
        "# Solution\n",
        "\n",
        "Y = np.diag(y)\n",
        "gram_matrix = np.dot(np.dot(Y, X.T), np.dot(X, Y))\n",
        "\n",
        "alpha = np.zeros(X.shape[1])\n",
        "\n",
        "for _ in range(100):\n",
        "  gradient = np.ones(X.shape[1]) - np.dot(gram_matrix, alpha)\n",
        "  alpha += 0.01 * gradient\n",
        "  alpha = np.maximum(0, alpha)\n",
        "\n",
        "num_support_vectors = np.sum(alpha > 1e-5)\n",
        "print(num_support_vectors)\n"
      ],
      "metadata": {
        "id": "USTjEFyYPqxG",
        "colab": {
          "base_uri": "https://localhost:8080/"
        },
        "outputId": "a3faeaaf-45c7-4f34-d2de-bb3385492e0e"
      },
      "execution_count": 132,
      "outputs": [
        {
          "output_type": "stream",
          "name": "stdout",
          "text": [
            "5\n"
          ]
        }
      ]
    },
    {
      "cell_type": "markdown",
      "source": [
        "## Common data for questions (11) and (12)\n",
        "\n",
        "Consider a data-matrix $\\mathbf{X}$. Mean center it and perform linear PCA."
      ],
      "metadata": {
        "id": "UMtCcCP8QfUz"
      }
    },
    {
      "cell_type": "code",
      "source": [
        "# DATA CELL\n",
        "# DO NOT EDIT THIS\n",
        "X = np.array([\n",
        "    [7, 5, -6, -11, 14.4, -2.8],\n",
        "    [10.5, 7.5, -9, -16.5, 21.6, -4.2],\n",
        "    [21, 15, -18, -33, 43.2, -8.4]\n",
        "]).astype(np.float64)"
      ],
      "metadata": {
        "id": "mt7Hrow9vJzH"
      },
      "execution_count": 133,
      "outputs": []
    },
    {
      "cell_type": "code",
      "source": [
        "# Solution\n",
        "# Run the data cell before running this\n",
        "\n",
        "X_mean = np.mean(X, axis=1, keepdims=True)\n",
        "X_centered = X - X_mean\n",
        "\n",
        "covariance_matrix = np.cov(X_centered)\n",
        "\n",
        "eigenvalues, eigenvectors = np.linalg.eig(covariance_matrix)\n",
        "\n",
        "sorted_indices = np.argsort(eigenvalues)[::-1]\n",
        "eigenvalues = eigenvalues[sorted_indices]\n",
        "eigenvectors = eigenvectors[:, sorted_indices]\n",
        "\n",
        "print(\"Eigenvalues:\", eigenvalues)\n",
        "print(\"Eigenvectors:\", eigenvectors)"
      ],
      "metadata": {
        "id": "ZB5kUNagx_kz",
        "colab": {
          "base_uri": "https://localhost:8080/"
        },
        "outputId": "8a8f3431-b4e2-4d6f-a63b-a309363eb193"
      },
      "execution_count": 134,
      "outputs": [
        {
          "output_type": "stream",
          "name": "stdout",
          "text": [
            "Eigenvalues: [ 1.07540300e+03  2.42859249e-14 -2.42859249e-14]\n",
            "Eigenvectors: [[-0.28571429 -0.57384592  0.57384592]\n",
            " [-0.42857143 -0.63982781 -0.79285339]\n",
            " [-0.85714286  0.51119588  0.20514472]]\n"
          ]
        }
      ]
    },
    {
      "cell_type": "markdown",
      "source": [
        "## Question-11 [3 marks]\n",
        "\n",
        "If the first PC is $\\mathbf{w}_1$, let the sum of the components of $\\mathbf{w}_1$ be $a$. Find the absolute value of $7a$ and enter the nearest integer as your answer."
      ],
      "metadata": {
        "id": "Tgw2B-EfwL9b"
      }
    },
    {
      "cell_type": "code",
      "source": [
        "# Solution\n",
        "\n",
        "X_mean = np.mean(X, axis=1, keepdims=True)\n",
        "X_centered = X - X_mean\n",
        "\n",
        "covariance_matrix = np.cov(X_centered)\n",
        "\n",
        "eigenvalues, eigenvectors = np.linalg.eig(covariance_matrix)\n",
        "\n",
        "sorted_indices = np.argsort(eigenvalues)[::-1]\n",
        "eigenvalues = eigenvalues[sorted_indices]\n",
        "eigenvectors = eigenvectors[:, sorted_indices]\n",
        "\n",
        "w1 = eigenvectors[:, 0]\n",
        "a = np.sum(w1)\n",
        "print(round(abs(7 * a)))"
      ],
      "metadata": {
        "id": "QI427kObwVdW",
        "colab": {
          "base_uri": "https://localhost:8080/"
        },
        "outputId": "7d8db9e7-9c98-460c-d5a3-5ad584cb2732"
      },
      "execution_count": 135,
      "outputs": [
        {
          "output_type": "stream",
          "name": "stdout",
          "text": [
            "11\n"
          ]
        }
      ]
    },
    {
      "cell_type": "markdown",
      "source": [
        "## Question-12 [3 marks]\n",
        "\n",
        "Find the variance along the first PC. Enter the nearest integer as your answer."
      ],
      "metadata": {
        "id": "p1DduPLix1An"
      }
    },
    {
      "cell_type": "code",
      "source": [
        "# Solution\n",
        "\n",
        "X_mean = np.mean(X, axis=1, keepdims=True)\n",
        "X_centered = X - X_mean\n",
        "\n",
        "covariance_matrix = np.cov(X_centered)\n",
        "\n",
        "eigenvalues, eigenvectors = np.linalg.eig(covariance_matrix)\n",
        "\n",
        "sorted_indices = np.argsort(eigenvalues)[::-1]\n",
        "eigenvalues = eigenvalues[sorted_indices]\n",
        "eigenvectors = eigenvectors[:, sorted_indices]\n",
        "\n",
        "variance_along_first_pc = eigenvalues[0]\n",
        "\n",
        "print(round(variance_along_first_pc))"
      ],
      "metadata": {
        "id": "_EpZ6ymUx72B",
        "colab": {
          "base_uri": "https://localhost:8080/"
        },
        "outputId": "67cd92c4-8b6e-4974-9f03-105c4fbe0e1e"
      },
      "execution_count": 136,
      "outputs": [
        {
          "output_type": "stream",
          "name": "stdout",
          "text": [
            "1075\n"
          ]
        }
      ]
    },
    {
      "cell_type": "markdown",
      "source": [
        "## Question-13 [3 marks]\n",
        "\n",
        "Find the sum of the variances along the second and third PC. Enter the nearest integer as your answer."
      ],
      "metadata": {
        "id": "820TD3T2yU6u"
      }
    },
    {
      "cell_type": "code",
      "source": [
        "# Solution\n",
        "\n",
        "X_mean = np.mean(X, axis=1, keepdims=True)\n",
        "X_centered = X - X_mean\n",
        "\n",
        "covariance_matrix = np.cov(X_centered)\n",
        "\n",
        "eigenvalues, eigenvectors = np.linalg.eig(covariance_matrix)\n",
        "\n",
        "sorted_indices = np.argsort(eigenvalues)[::-1]\n",
        "eigenvalues = eigenvalues[sorted_indices]\n",
        "eigenvectors = eigenvectors[:, sorted_indices]\n",
        "\n",
        "variance_along_second_pc = eigenvalues[1]\n",
        "variance_along_third_pc = eigenvalues[2]\n",
        "\n",
        "print(round(variance_along_second_pc + variance_along_third_pc))"
      ],
      "metadata": {
        "id": "xHDljAql3YIW",
        "colab": {
          "base_uri": "https://localhost:8080/"
        },
        "outputId": "74d67136-25ff-4e8f-d661-962de5a8be68"
      },
      "execution_count": 137,
      "outputs": [
        {
          "output_type": "stream",
          "name": "stdout",
          "text": [
            "0\n"
          ]
        }
      ]
    },
    {
      "cell_type": "markdown",
      "source": [
        "## Common data for questions (14) to (16)\n",
        "\n",
        "Consider a dataset $\\mathbf{X}$ for a clustering problem. Start with the initial means as $\\boldsymbol{\\mu}_1 = (2, 3, 5)$ and $\\boldsymbol{\\mu}_2 = (-3, -5, -7)$ and run K-means with $k = 2$.\n",
        "\n",
        "**Note**: Set `mu_1` and `mu_2` as `np.float64` arrays. You can set `dtype = np.float64` while creating the array. Use `np.array?` if you are still unsure about this. This is important for your final answer to match the ones we have configured.\n"
      ],
      "metadata": {
        "id": "ChxnTNlDydTd"
      }
    },
    {
      "cell_type": "code",
      "source": [
        "# DATA CELL\n",
        "# DO NOT EDIT THIS\n",
        "X = np.array([\n",
        "    [-8.2, 3.2, -5.1, 4., -7, 8.1, -2],\n",
        "    [-10.1, 4.1, -3.3, 2., -5, 6.2, -5],\n",
        "    [-3.4, 4.9, -3, 2., -5, 6.5, -5.3]\n",
        "])"
      ],
      "metadata": {
        "id": "WvexSrlzz20i"
      },
      "execution_count": 138,
      "outputs": []
    },
    {
      "cell_type": "code",
      "source": [
        "# Solution\n",
        "# Run the data cell before running this"
      ],
      "metadata": {
        "id": "mLXVo6S-0T8A"
      },
      "execution_count": 139,
      "outputs": []
    },
    {
      "cell_type": "markdown",
      "source": [
        "## Question-14 [3 marks]\n",
        "\n",
        "Find the norm of the final mean $\\boldsymbol{\\mu}_1$. Enter the nearest integer as your answer.\n",
        "\n"
      ],
      "metadata": {
        "id": "IghtGUgx0UhS"
      }
    },
    {
      "cell_type": "code",
      "source": [
        "# Solution\n",
        "\n",
        "mu_1 = np.array([2, 3, 5], dtype=np.float64)\n",
        "mu_2 = np.array([-3, -5, -7], dtype=np.float64)\n",
        "\n",
        "max_iterations = 100\n",
        "for _ in range(max_iterations):\n",
        "    cluster_1_indices = []\n",
        "    cluster_2_indices = []\n",
        "    for i in range(X.shape[1]):\n",
        "        x_i = X[:, i]\n",
        "        dist_to_mu_1 = np.linalg.norm(x_i - mu_1)\n",
        "        dist_to_mu_2 = np.linalg.norm(x_i - mu_2)\n",
        "        if dist_to_mu_1 <= dist_to_mu_2:\n",
        "            cluster_1_indices.append(i)\n",
        "        else:\n",
        "            cluster_2_indices.append(i)\n",
        "\n",
        "    new_mu_1 = np.mean(X[:, cluster_1_indices], axis=1) if cluster_1_indices else mu_1\n",
        "    new_mu_2 = np.mean(X[:, cluster_2_indices], axis=1) if cluster_2_indices else mu_2\n",
        "\n",
        "    if np.array_equal(mu_1, new_mu_1) and np.array_equal(mu_2, new_mu_2):\n",
        "        break\n",
        "\n",
        "    mu_1 = new_mu_1\n",
        "    mu_2 = new_mu_2\n",
        "\n",
        "\n",
        "print(round(np.linalg.norm(mu_1)))"
      ],
      "metadata": {
        "id": "Ii_9Pq-m7fLu",
        "colab": {
          "base_uri": "https://localhost:8080/"
        },
        "outputId": "86520b44-9f83-4791-e127-e3728ec58ba2"
      },
      "execution_count": 140,
      "outputs": [
        {
          "output_type": "stream",
          "name": "stdout",
          "text": [
            "8\n"
          ]
        }
      ]
    },
    {
      "cell_type": "markdown",
      "source": [
        "## Question-15 [3 marks]\n",
        "\n",
        "Find the norm of the final mean $\\boldsymbol{\\mu}_2$. Enter the nearest integer as your answer.\n",
        "\n"
      ],
      "metadata": {
        "id": "qcdc2zqE7jZc"
      }
    },
    {
      "cell_type": "code",
      "source": [
        "# Solution\n",
        "\n",
        "print(round(np.linalg.norm(mu_2)))\n"
      ],
      "metadata": {
        "id": "Zo7Z9GZX7mTY",
        "colab": {
          "base_uri": "https://localhost:8080/"
        },
        "outputId": "3850ad84-f69a-4701-e357-fd1eaa508cf2"
      },
      "execution_count": 141,
      "outputs": [
        {
          "output_type": "stream",
          "name": "stdout",
          "text": [
            "9\n"
          ]
        }
      ]
    },
    {
      "cell_type": "markdown",
      "source": [
        "## Question-16 [3 marks]\n",
        "\n",
        "Find the cluster to which the data-point $(0, 1, 2)$ belongs. Enter $1$ if it is closer to $\\boldsymbol{\\mu}_1$ than $\\boldsymbol{\\mu}_2$ and $2$ otherwise."
      ],
      "metadata": {
        "id": "tRYQF6D272ul"
      }
    },
    {
      "cell_type": "code",
      "source": [
        "# Solution\n",
        "\n",
        "x_i = np.array([0, 1, 2])\n",
        "dist_to_mu_1 = np.linalg.norm(x_i - mu_1)\n",
        "dist_to_mu_2 = np.linalg.norm(x_i - mu_2)\n",
        "\n",
        "if dist_to_mu_1 <= dist_to_mu_2:\n",
        "  print(1)\n",
        "else:\n",
        "  print(2)"
      ],
      "metadata": {
        "id": "TiPBhf7b8Asz",
        "colab": {
          "base_uri": "https://localhost:8080/"
        },
        "outputId": "2752fced-d5af-4013-e3c6-c9c8d3e34583"
      },
      "execution_count": 142,
      "outputs": [
        {
          "output_type": "stream",
          "name": "stdout",
          "text": [
            "1\n"
          ]
        }
      ]
    },
    {
      "cell_type": "markdown",
      "source": [
        "## Question-17 [3 marks]\n",
        "\n",
        "Fit a linear regression model on the dataset $(\\mathbf{X}, \\mathbf{y})$ and find the optimal weight vector $\\mathbf{w}^{*}$ using the normal equations. Enter the nearest integer to the sum of the components of $\\mathbf{w}^{*}$ as the answer."
      ],
      "metadata": {
        "id": "MDHEC5gb8bbQ"
      }
    },
    {
      "cell_type": "code",
      "source": [
        "# DATA CELL\n",
        "# DO NOT EDIT THIS\n",
        "X = np.array([\n",
        "    [1., -1., 3., -2., 1.],\n",
        "    [0., -2., 1., 0., 3.],\n",
        "    [-2., 1., 0., 1., 2.],\n",
        "    [1., -2., 3., -1., 4.]\n",
        "])\n",
        "y = np.array(\n",
        "    [3.1, 4.9, -2.5, 10.3, -4.2]\n",
        ")"
      ],
      "metadata": {
        "id": "zKbO_5Mp8xUA"
      },
      "execution_count": 143,
      "outputs": []
    },
    {
      "cell_type": "code",
      "source": [
        "# Solution\n",
        "# Run the data cell before running this\n",
        "\n",
        "X = X.T\n",
        "w_star = np.linalg.solve(np.dot(X.T, X), np.dot(X.T, y))\n",
        "print(round(np.sum(w_star)))"
      ],
      "metadata": {
        "id": "SiOulRYgA8LX",
        "colab": {
          "base_uri": "https://localhost:8080/"
        },
        "outputId": "f2abb624-4460-4c70-ab23-ff94fa451ff7"
      },
      "execution_count": 144,
      "outputs": [
        {
          "output_type": "stream",
          "name": "stdout",
          "text": [
            "-9\n"
          ]
        }
      ]
    },
    {
      "cell_type": "code",
      "source": [],
      "metadata": {
        "id": "aSOg6G5YRXzO"
      },
      "execution_count": 144,
      "outputs": []
    }
  ]
}